{
 "cells": [
  {
   "cell_type": "code",
   "execution_count": null,
   "metadata": {
    "collapsed": true
   },
   "outputs": [],
   "source": [
    "import random\n",
    "import torch\n",
    "from d2l import torch as d2l\n",
    "\n",
    "torch.set_default_tensor_type('torch.cuda.FloatTensor')"
   ]
  },
  {
   "cell_type": "code",
   "execution_count": null,
   "outputs": [],
   "source": [
    "def synthetic_data(w, b, num_examples):\n",
    "    # 生成y=wx+b+噪音\n",
    "    X = torch.normal(0, 1, (num_examples, len(w)))\n",
    "    y = torch.matmul(X, w) + b\n",
    "    y += torch.normal(0, 0.01, y.shape) # 加个噪音\n",
    "    return X, y.reshape((-1, 1))\n",
    "\n",
    "w = torch.tensor([2, -3.4])\n",
    "b = torch.tensor(4.2)\n",
    "features, labels = synthetic_data(w, b, 1000)\n",
    "print(features)\n",
    "print(labels)"
   ],
   "metadata": {
    "collapsed": false
   }
  },
  {
   "cell_type": "code",
   "execution_count": null,
   "outputs": [],
   "source": [
    "d2l.plt.scatter(features[:, 0].cpu().numpy(), labels.cpu().numpy(), 1)"
   ],
   "metadata": {
    "collapsed": false
   }
  },
  {
   "cell_type": "code",
   "execution_count": null,
   "outputs": [],
   "source": [
    "# 每次读取一个mini-batch的数据来训练\n",
    "def data_iter(batch_size, features, labels):\n",
    "    num_examples = len(features)\n",
    "    indices = list(range(num_examples))\n",
    "    random.shuffle(indices) # 打乱下标\n",
    "    for i in range(0, num_examples, batch_size):\n",
    "        batch_indices = torch.tensor(indices[i : min(i + batch_size, num_examples)])\n",
    "        yield features[batch_indices], labels[batch_indices] # 生成了一个iterator,它会记住上次调用的位置。下次继续调用时会回到上次调用的结果后面\n",
    "\n",
    "\n",
    "batch_size = 10\n",
    "# for X, y in data_iter(batch_size, features, labels):\n",
    "#     print(X, '\\n', y)"
   ],
   "metadata": {
    "collapsed": false
   }
  },
  {
   "cell_type": "code",
   "execution_count": null,
   "outputs": [],
   "source": [
    "def linreg(X, w, b):\n",
    "    return torch.matmul(X, w) + b # 这是我们的模型，产生预测值的公式\n",
    "\n",
    "w = torch.normal(0, 0.01, size=(2, 1), requires_grad=True)\n",
    "b = torch.zeros(1, requires_grad = True)\n",
    "\n",
    "# 均方损失函数\n",
    "def loss(w, b, X, y):\n",
    "    return torch.mean(torch.square(linreg(X, w, b)- y)) / 2 # torch.mean()返回整个矩阵元素的均值\n",
    "\n",
    "# 更新参数\n",
    "def sgd(params, lr, batch_size):\n",
    "    with torch.no_grad():\n",
    "        for param in params:\n",
    "            param -= lr * param.grad # param.grad是torch自动算出来的\n",
    "            param.grad.zero_()"
   ],
   "metadata": {
    "collapsed": false
   }
  },
  {
   "cell_type": "code",
   "execution_count": null,
   "outputs": [],
   "source": [
    "lr = 0.03\n",
    "num_epoch = 10\n",
    "net = linreg\n",
    "loss = loss\n",
    "\n",
    "for epoch in range(num_epoch):\n",
    "    for X, y in data_iter(batch_size, features, labels):\n",
    "        l = loss(w, b, X, y) # 每次读一小批数据出来算loss，然后反向传播一下\n",
    "        l.backward() # 之前已经把loss整成了标量，所以这里不需要sum了\n",
    "        sgd([w, b], lr, batch_size)\n",
    "    with torch.no_grad():\n",
    "        train_l = loss(w, b, features, labels)\n",
    "        print('epoch @ {}: loss {}'.format(epoch + 1, float(train_l)))\n",
    "\n",
    "print(w)\n",
    "print(b)"
   ],
   "metadata": {
    "collapsed": false
   }
  }
 ],
 "metadata": {
  "kernelspec": {
   "display_name": "Python 3",
   "language": "python",
   "name": "python3"
  },
  "language_info": {
   "codemirror_mode": {
    "name": "ipython",
    "version": 2
   },
   "file_extension": ".py",
   "mimetype": "text/x-python",
   "name": "python",
   "nbconvert_exporter": "python",
   "pygments_lexer": "ipython2",
   "version": "2.7.6"
  }
 },
 "nbformat": 4,
 "nbformat_minor": 0
}
