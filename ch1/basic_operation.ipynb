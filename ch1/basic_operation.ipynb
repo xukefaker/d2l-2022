{
 "cells": [
  {
   "cell_type": "code",
   "execution_count": 2,
   "metadata": {
    "collapsed": true
   },
   "outputs": [],
   "source": [
    "# 这是一些对数据的基本操作,对应视频04p2\n",
    "import torch\n"
   ]
  },
  {
   "cell_type": "code",
   "execution_count": 5,
   "outputs": [
    {
     "name": "stdout",
     "output_type": "stream",
     "text": [
      "tensor([ 0,  1,  2,  3,  4,  5,  6,  7,  8,  9, 10, 11])\n",
      "tensor([[[0., 0., 0., 0.],\n",
      "         [0., 0., 0., 0.],\n",
      "         [0., 0., 0., 0.]],\n",
      "\n",
      "        [[0., 0., 0., 0.],\n",
      "         [0., 0., 0., 0.],\n",
      "         [0., 0., 0., 0.]]])\n"
     ]
    }
   ],
   "source": [
    "# 新建一个torch的tensor\n",
    "x = torch.arange(12)\n",
    "print(x)\n",
    "# 像numpy一样，能够reshape\n",
    "x = x.reshape(3,4)\n",
    "# 生成一堆0，并指定shape\n",
    "zeros = torch.zeros((2,3,4))\n",
    "print(zeros)"
   ],
   "metadata": {
    "collapsed": false
   }
  },
  {
   "cell_type": "code",
   "execution_count": 6,
   "outputs": [
    {
     "name": "stdout",
     "output_type": "stream",
     "text": [
      "tensor([[[0., 0., 0., 0.],\n",
      "         [0., 0., 0., 0.],\n",
      "         [0., 0., 0., 0.]],\n",
      "\n",
      "        [[0., 0., 0., 0.],\n",
      "         [0., 0., 0., 0.],\n",
      "         [0., 0., 0., 0.]]], dtype=torch.float64)\n"
     ]
    }
   ],
   "source": [
    "import numpy as np\n",
    "\n",
    "# torch兼容了numpy\n",
    "a = np.zeros((2,3,4))\n",
    "b = torch.tensor(a)\n",
    "print(b)"
   ],
   "metadata": {
    "collapsed": false
   }
  },
  {
   "cell_type": "code",
   "execution_count": 8,
   "outputs": [
    {
     "name": "stdout",
     "output_type": "stream",
     "text": [
      "tensor([[1, 2, 3],\n",
      "        [4, 5, 6]])\n"
     ]
    }
   ],
   "source": [
    "# 普通的list也可以直接扔进去\n",
    "a = [[1,2,3], [4,5,6]]\n",
    "b = torch.tensor(a)\n",
    "print(b)"
   ],
   "metadata": {
    "collapsed": false
   }
  },
  {
   "cell_type": "code",
   "execution_count": 9,
   "outputs": [
    {
     "name": "stdout",
     "output_type": "stream",
     "text": [
      "tensor([ 3,  4,  6, 10])\n",
      "tensor([-1,  0,  2,  6])\n",
      "tensor([ 2,  4,  8, 16])\n",
      "tensor([0.5000, 1.0000, 2.0000, 4.0000])\n"
     ]
    }
   ],
   "source": [
    "# 像这种直接用运算符对两个tensor进行操作，一般遵循element-wise原则\n",
    "a = torch.tensor([1, 2, 4, 8])\n",
    "b = torch.tensor([2, 2, 2, 2])\n",
    "print(a + b)\n",
    "print(a - b)\n",
    "print(a * b)\n",
    "print(a / b)"
   ],
   "metadata": {
    "collapsed": false
   }
  },
  {
   "cell_type": "code",
   "execution_count": 14,
   "outputs": [
    {
     "name": "stdout",
     "output_type": "stream",
     "text": [
      "tensor([[ 0,  1,  2,  3,  4,  5],\n",
      "        [ 6,  7,  8,  9, 10, 11]])\n",
      "tensor([[2, 3, 4, 5],\n",
      "        [1, 2, 3, 4],\n",
      "        [3, 4, 5, 6]])\n"
     ]
    },
    {
     "ename": "RuntimeError",
     "evalue": "Sizes of tensors must match except in dimension 0. Expected size 6 but got size 4 for tensor number 1 in the list.",
     "output_type": "error",
     "traceback": [
      "\u001B[0;31m---------------------------------------------------------------------------\u001B[0m",
      "\u001B[0;31mRuntimeError\u001B[0m                              Traceback (most recent call last)",
      "Cell \u001B[0;32mIn [14], line 6\u001B[0m\n\u001B[1;32m      4\u001B[0m \u001B[38;5;28mprint\u001B[39m(a)\n\u001B[1;32m      5\u001B[0m \u001B[38;5;28mprint\u001B[39m(b)\n\u001B[0;32m----> 6\u001B[0m \u001B[38;5;28mprint\u001B[39m(\u001B[43mtorch\u001B[49m\u001B[38;5;241;43m.\u001B[39;49m\u001B[43mcat\u001B[49m\u001B[43m(\u001B[49m\u001B[43m(\u001B[49m\u001B[43ma\u001B[49m\u001B[43m,\u001B[49m\u001B[43m \u001B[49m\u001B[43mb\u001B[49m\u001B[43m)\u001B[49m\u001B[43m,\u001B[49m\u001B[43m \u001B[49m\u001B[43mdim\u001B[49m\u001B[38;5;241;43m=\u001B[39;49m\u001B[38;5;241;43m0\u001B[39;49m\u001B[43m)\u001B[49m)\n",
      "\u001B[0;31mRuntimeError\u001B[0m: Sizes of tensors must match except in dimension 0. Expected size 6 but got size 4 for tensor number 1 in the list."
     ]
    }
   ],
   "source": [
    "# 如何把两个tensor整成一个tensor？\n",
    "a = torch.arange(12).reshape(3,4)\n",
    "b = torch.tensor([[2,3,4,5], [1,2,3,4], [3,4,5,6]])\n",
    "print(a)\n",
    "print(b)\n",
    "print(torch.cat((a, b), dim=0)) # 垂直扩展\n",
    "print(torch.cat((a, b), dim=1)) # 水平扩展\n"
   ],
   "metadata": {
    "collapsed": false
   }
  },
  {
   "cell_type": "code",
   "execution_count": 20,
   "outputs": [
    {
     "name": "stdout",
     "output_type": "stream",
     "text": [
      "tensor([[0, 1]])\n",
      "tensor([[0],\n",
      "        [1],\n",
      "        [2],\n",
      "        [3]])\n",
      "tensor([[0, 1],\n",
      "        [1, 2],\n",
      "        [2, 3],\n",
      "        [3, 4]])\n"
     ]
    }
   ],
   "source": [
    "# torch也有广播机制\n",
    "a = torch.arange(5)\n",
    "b = torch.arange(25).reshape(5,5)\n",
    "\n",
    "# 行列都不一样呢？\n",
    "c = torch.arange(2).reshape(1,2)\n",
    "d = torch.arange(4).reshape(4,1)\n",
    "print(c)\n",
    "print(d)\n",
    "print(c+d)\n",
    "# 把列向量扩展一下，弄成4x2的，再用行向量去加"
   ],
   "metadata": {
    "collapsed": false
   }
  },
  {
   "cell_type": "code",
   "execution_count": 24,
   "outputs": [
    {
     "name": "stdout",
     "output_type": "stream",
     "text": [
      "tensor([0, 5, 6, 3])\n"
     ]
    }
   ],
   "source": [
    "# torch访问元素的方法和numpy很像\n",
    "x = torch.arange(4)\n",
    "x[1:3] = torch.tensor([5,6])\n",
    "print(x)"
   ],
   "metadata": {
    "collapsed": false
   }
  },
  {
   "cell_type": "code",
   "execution_count": 29,
   "outputs": [
    {
     "name": "stdout",
     "output_type": "stream",
     "text": [
      "140308572277952\n",
      "140308572275712\n",
      "140308572275712\n",
      "140308572275712\n"
     ]
    }
   ],
   "source": [
    "# 如何进行tensor的原地操作？\n",
    "x = torch.tensor([3,4,5,6,7])\n",
    "print(id(x))\n",
    "x = x + 1\n",
    "print(id(x))\n",
    "\n",
    "# 第一种\n",
    "x += 1\n",
    "print(id(x))\n",
    "# 第二种\n",
    "x[:] = x + 1\n",
    "print(id(x))"
   ],
   "metadata": {
    "collapsed": false
   }
  },
  {
   "cell_type": "code",
   "execution_count": null,
   "outputs": [],
   "source": [],
   "metadata": {
    "collapsed": false
   }
  }
 ],
 "metadata": {
  "kernelspec": {
   "display_name": "Python 3",
   "language": "python",
   "name": "python3"
  },
  "language_info": {
   "codemirror_mode": {
    "name": "ipython",
    "version": 2
   },
   "file_extension": ".py",
   "mimetype": "text/x-python",
   "name": "python",
   "nbconvert_exporter": "python",
   "pygments_lexer": "ipython2",
   "version": "2.7.6"
  }
 },
 "nbformat": 4,
 "nbformat_minor": 0
}
